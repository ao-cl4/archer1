{
 "cells": [
  {
   "cell_type": "code",
   "execution_count": null,
   "metadata": {},
   "outputs": [],
   "source": [
    "import pandas as pd\n",
    "\n",
    "def clean_data(df):\n",
    "    # Sort by columns: 'Source IP Address' (ascending), 'Timestamp' (ascending)\n",
    "    df = df.sort_values(['Source IP Address', 'Timestamp'])\n",
    "    return df\n",
    "\n",
    "# Loaded variable 'df' from URI: /home/almogo/git/archer1/c1.csv\n",
    "df = pd.read_csv(r'/home/almogo/git/archer1/c1.csv')\n",
    "\n",
    "df_clean = clean_data(df.copy())\n",
    "df_clean.head()"
   ]
  }
 ],
 "metadata": {
  "kernelspec": {
   "display_name": "Python 3",
   "language": "python",
   "name": "python3"
  },
  "language_info": {
   "name": "python",
   "version": "3.12.3"
  }
 },
 "nbformat": 4,
 "nbformat_minor": 2
}
